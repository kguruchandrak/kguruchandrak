{
 "cells": [
  {
   "cell_type": "markdown",
   "id": "b07ae8f1",
   "metadata": {},
   "source": [
    "1. In the below elements which of them are values or an expression? eg:- values can be integer or string and expressions will be mathematical operators.\n",
    "\n",
    "* - expressions \n",
    "'hello' - value\n",
    "87.8 - value\n",
    "- - expressions \n",
    "/ - expressions\n",
    "+ - expressions \n",
    "6 - value"
   ]
  },
  {
   "cell_type": "markdown",
   "id": "73f67935",
   "metadata": {},
   "source": [
    "2.What is the difference between string and variable?\n",
    "\n",
    "String is a datatype which represents character or sequence of characters. String should be given in between '' or \"\".\n",
    "\n",
    "Variable is use to store a value irrespective of datatype given. Variable shoould always start with an alphabet and can end with alphabet or number. Ex => a1 , b2 , c3 = 21 , 'str' , 6.766"
   ]
  },
  {
   "cell_type": "markdown",
   "id": "843cb4cf",
   "metadata": {},
   "source": [
    "3.Describe three different data types.\n",
    "\n",
    "Integer - used to represent whole numbers. Ex => a = 10 \n",
    "String - used to represent character or sequence of characters. Ex => str = 'Guruchandra' \n",
    "Float - used to represent decimal numbers. Ex => b = 10.95"
   ]
  },
  {
   "cell_type": "markdown",
   "id": "92793f9a",
   "metadata": {},
   "source": [
    "4.What is an expression made up of? What do all expressions do?\n",
    "\n",
    "An expression is a combination of values, variables, operators, and calls to functions. Expressions need to be evaluated. If you ask Python to print an expression, the interpreter evaluates the expression and displays the result"
   ]
  },
  {
   "cell_type": "markdown",
   "id": "857a7a42",
   "metadata": {},
   "source": [
    "5.This assignment statements, like spam = 10. What is the difference between an expression and a statement?\n",
    "\n",
    "A statement is an instruction that the Python interpreter can execute. Ex => if statement, while statement, for statement\n",
    "\n",
    "An expression is a combination of values, variables, operators, and calls to functions. Expressions need to be evaluated. If you ask Python to print an expression, the interpreter evaluates the expression and displays the result"
   ]
  },
  {
   "cell_type": "markdown",
   "id": "d6f52f4e",
   "metadata": {},
   "source": [
    "6.After running the following code, what does the variable bacon contain?\n",
    "bacon = 22\n",
    "bacon + 1\n",
    "\n",
    "\n",
    "from the above code, bacon will contain 23 but when bacon in tried to printed using \"print(bacon)\" then 22 is printed"
   ]
  },
  {
   "cell_type": "markdown",
   "id": "d44b770e",
   "metadata": {},
   "source": [
    "7.What should the values of the following two terms be? \n",
    "\n",
    "'spam' + 'spamspam' => spamspamspam \n",
    "'spam' * 3 => spamspamspam"
   ]
  },
  {
   "cell_type": "markdown",
   "id": "6d47b223",
   "metadata": {},
   "source": [
    "8. Why is eggs a valid variable name while 100 is invalid?\n",
    "\n",
    "Variable shoould always start with an alphabet and can end with alphabet or number. Ex => a1 , b2 , c3 = 21 , 'str' , 6.766"
   ]
  },
  {
   "cell_type": "markdown",
   "id": "60564e0e",
   "metadata": {},
   "source": [
    "9.What three functions can be used to get the integer, floating-point number, or string version of a value?\n",
    "a = '144' b = int(a) type(b)\n",
    "\n",
    "above code is used to get interger version of a\n",
    "\n",
    "a = '12.34' b = float(a) type(b)\n",
    "\n",
    "above code is used to get floating-point version of a\n",
    "\n",
    "a = 689232 b = str(a) type(b)\n",
    "\n",
    "above code is used to get string version of a\n",
    "\n",
    "NOTE: type(b){gives the datatype of the variable passed} is used for conformation that the convertion is done or not"
   ]
  },
  {
   "cell_type": "markdown",
   "id": "ccbaaecb",
   "metadata": {},
   "source": [
    "10.Why does this expression cause an error? How can you fix it? \n",
    "'I have eaten' +99+ 'burritos.'\n",
    "\n",
    "'I have eaten ' +str(99)+ ' burritos."
   ]
  }
 ],
 "metadata": {
  "kernelspec": {
   "display_name": "Python 3",
   "language": "python",
   "name": "python3"
  },
  "language_info": {
   "codemirror_mode": {
    "name": "ipython",
    "version": 3
   },
   "file_extension": ".py",
   "mimetype": "text/x-python",
   "name": "python",
   "nbconvert_exporter": "python",
   "pygments_lexer": "ipython3",
   "version": "3.8.8"
  }
 },
 "nbformat": 4,
 "nbformat_minor": 5
}
