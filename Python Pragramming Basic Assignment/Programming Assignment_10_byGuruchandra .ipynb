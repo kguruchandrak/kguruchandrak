{
 "cells": [
  {
   "cell_type": "code",
   "execution_count": 13,
   "id": "84820221",
   "metadata": {},
   "outputs": [
    {
     "name": "stdout",
     "output_type": "stream",
     "text": [
      "Enter numbers : 1 2 3 4\n",
      "List :  [1, 2, 3, 4]\n",
      "Sum of the list :  10\n"
     ]
    }
   ],
   "source": [
    "# Program to find sum of elements in list?\n",
    "\n",
    "ip = input(\"Enter numbers : \")\n",
    "l1 = ip.split()\n",
    "l2 = list(map(int,l1))\n",
    "print(\"List : \",l2)\n",
    "print(\"Sum of the list : \",sum(l2))\n"
   ]
  },
  {
   "cell_type": "code",
   "execution_count": 14,
   "id": "66cba565",
   "metadata": {},
   "outputs": [
    {
     "name": "stdout",
     "output_type": "stream",
     "text": [
      "Enter numbers : 1 2 3 4\n",
      "List :  [1, 2, 3, 4]\n",
      "Multiplication all numbers in the list :  24\n"
     ]
    }
   ],
   "source": [
    "# Program to Multiply all numbers in the list?\n",
    "import math\n",
    "ip = input(\"Enter numbers : \")\n",
    "l1 = ip.split()\n",
    "l2 = list(map(int,l1))\n",
    "print(\"List : \",l2)\n",
    "print(\"Multiplication all numbers in the list : \",math.prod(l2))"
   ]
  },
  {
   "cell_type": "code",
   "execution_count": 15,
   "id": "769429b9",
   "metadata": {},
   "outputs": [
    {
     "name": "stdout",
     "output_type": "stream",
     "text": [
      "Enter numbers : 1 2 3 4 5\n",
      "List :  [1, 2, 3, 4, 5]\n",
      "Smallest number in a list :  1\n"
     ]
    }
   ],
   "source": [
    "# Program to find smallest number in a list?\n",
    "\n",
    "ip = input(\"Enter numbers : \")\n",
    "l1 = ip.split()\n",
    "l2 = list(map(int,l1))\n",
    "print(\"List : \",l2)\n",
    "print(\"Smallest number in a list : \",min(l2))"
   ]
  },
  {
   "cell_type": "code",
   "execution_count": 16,
   "id": "c31d6c68",
   "metadata": {},
   "outputs": [
    {
     "name": "stdout",
     "output_type": "stream",
     "text": [
      "Enter numbers : 1 2 5 4 8 9 6 3 \n",
      "List :  [1, 2, 5, 4, 8, 9, 6, 3]\n",
      "Largest number in a list :  9\n"
     ]
    }
   ],
   "source": [
    "# Program to find largest number in a list?\n",
    "\n",
    "ip = input(\"Enter numbers : \")\n",
    "l1 = ip.split()\n",
    "l2 = list(map(int,l1))\n",
    "print(\"List : \",l2)\n",
    "print(\"Largest number in a list : \",max(l2))"
   ]
  },
  {
   "cell_type": "code",
   "execution_count": 17,
   "id": "f68830ee",
   "metadata": {},
   "outputs": [
    {
     "name": "stdout",
     "output_type": "stream",
     "text": [
      "Enter numbers : 1 2 3 4 5 6 9 8 7\n",
      "List :  [1, 2, 3, 4, 5, 6, 7, 8, 9]\n",
      "Second largest number in a list :  8\n"
     ]
    }
   ],
   "source": [
    "# Program to find second largest number in a list?\n",
    "\n",
    "ip = input(\"Enter numbers : \")\n",
    "l1 = ip.split()\n",
    "l2 = sorted(list(map(int,l1)))\n",
    "print(\"List : \",l2)\n",
    "print(\"Second largest number in a list : \",l2[-2])"
   ]
  },
  {
   "cell_type": "code",
   "execution_count": 18,
   "id": "4f91ae64",
   "metadata": {},
   "outputs": [
    {
     "name": "stdout",
     "output_type": "stream",
     "text": [
      "Enter numbers : 1 2 3 4 5 6 9 8 7\n",
      "Enter N :4\n",
      "List :  [1, 2, 3, 4, 5, 6, 7, 8, 9]\n",
      "N largest elements from a list :  [6, 7, 8, 9]\n"
     ]
    }
   ],
   "source": [
    "# Program to find N largest elements from a list?\n",
    "\n",
    "ip = input(\"Enter numbers : \")\n",
    "n = int(input(\"Enter N :\"))\n",
    "l1 = ip.split()\n",
    "l2 = sorted(list(map(int,l1)))\n",
    "print(\"List : \",l2)\n",
    "print(\"N largest elements from a list : \",l2[-n:])"
   ]
  },
  {
   "cell_type": "code",
   "execution_count": 19,
   "id": "e990dd29",
   "metadata": {},
   "outputs": [
    {
     "name": "stdout",
     "output_type": "stream",
     "text": [
      "Enter numbers :  1 2 3 4 5 6 7 8 9\n",
      "List :  [1, 2, 3, 4, 5, 6, 7, 8, 9]\n",
      "Even numbers in a list :  [2, 4, 6, 8]\n"
     ]
    }
   ],
   "source": [
    "# Program to print even numbers in a list?\n",
    "\n",
    "ip = input(\"Enter numbers : \")\n",
    "l1 = ip.split()\n",
    "l2 = sorted(list(map(int,l1)))\n",
    "l3 = list(filter(lambda x : x%2 == 0,l2))\n",
    "print(\"List : \",l2)\n",
    "print(\"Even numbers in a list : \",l3)"
   ]
  },
  {
   "cell_type": "code",
   "execution_count": 20,
   "id": "2d8419ae",
   "metadata": {},
   "outputs": [
    {
     "name": "stdout",
     "output_type": "stream",
     "text": [
      "Enter numbers : 1 2 3 4 5 6 7 8 9 \n",
      "List :  [1, 2, 3, 4, 5, 6, 7, 8, 9]\n",
      "Odd numbers in a list :  [1, 3, 5, 7, 9]\n"
     ]
    }
   ],
   "source": [
    "# Program to print odd numbers in a List?\n",
    "\n",
    "ip = input(\"Enter numbers : \")\n",
    "l1 = ip.split()\n",
    "l2 = sorted(list(map(int,l1)))\n",
    "l3 = list(filter(lambda x : x%2 != 0,l2))\n",
    "print(\"List : \",l2)\n",
    "print(\"Odd numbers in a list : \",l3)"
   ]
  },
  {
   "cell_type": "code",
   "execution_count": 22,
   "id": "7c971603",
   "metadata": {},
   "outputs": [
    {
     "name": "stdout",
     "output_type": "stream",
     "text": [
      "The original list : [5, 6, [], 3, [], [], 9]\n",
      "List after empty list removal : [5, 6, 3, 9]\n"
     ]
    }
   ],
   "source": [
    "# Program to Remove empty List from List?\n",
    "\n",
    "l1 = [5, 6, [], 3, [], [], 9]\n",
    "print(\"The original list : \" + str(l1))\n",
    "l2 = list(filter(None, l1))\n",
    "print (\"List after empty list removal : \" + str(l2))\n"
   ]
  },
  {
   "cell_type": "code",
   "execution_count": 23,
   "id": "d1e421db",
   "metadata": {},
   "outputs": [
    {
     "name": "stdout",
     "output_type": "stream",
     "text": [
      "['guru', 10, 'chandra', 'sai', 45]\n",
      "['guru', 10, 'chandra', 'sai', 45]\n"
     ]
    }
   ],
   "source": [
    "# Program to Cloning or Copying a list?\n",
    "\n",
    "l1 = [\"guru\",10,\"chandra\",\"sai\",45]\n",
    "l2 = l1.copy()\n",
    "print(l1)\n",
    "print(l2)"
   ]
  },
  {
   "cell_type": "code",
   "execution_count": 24,
   "id": "119e009c",
   "metadata": {},
   "outputs": [
    {
     "name": "stdout",
     "output_type": "stream",
     "text": [
      "Enter numbers :  1 1 2 2 3 3 6 6 6 9 9 8 5 5 5 4 7 7  7\n",
      "Enter number to know its occurences : 4\n",
      "4 occured 1 times in the list\n"
     ]
    }
   ],
   "source": [
    "# Program to Count occurrences of an element in a list?\n",
    "\n",
    "ip = input(\"Enter numbers : \")\n",
    "l1 = ip.split()\n",
    "l2 = sorted(list(map(int,l1)))\n",
    "n = int(input(\"Enter number to know its occurences : \"))\n",
    "print(\"{} occured {} times in the list\".format(n,l2.count(n)))\n"
   ]
  }
 ],
 "metadata": {
  "kernelspec": {
   "display_name": "Python 3",
   "language": "python",
   "name": "python3"
  },
  "language_info": {
   "codemirror_mode": {
    "name": "ipython",
    "version": 3
   },
   "file_extension": ".py",
   "mimetype": "text/x-python",
   "name": "python",
   "nbconvert_exporter": "python",
   "pygments_lexer": "ipython3",
   "version": "3.8.8"
  }
 },
 "nbformat": 4,
 "nbformat_minor": 5
}
