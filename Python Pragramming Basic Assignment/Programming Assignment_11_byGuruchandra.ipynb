{
 "cells": [
  {
   "cell_type": "code",
   "execution_count": 1,
   "id": "2e0dad04",
   "metadata": {},
   "outputs": [
    {
     "name": "stdout",
     "output_type": "stream",
     "text": [
      "Enter the string :Ineuron is a great place to learn Data Science\n",
      "Enter k : 4\n",
      "All words which are greater than given length  4 are  ['Ineuron', 'great', 'place', 'learn', 'Science']\n"
     ]
    }
   ],
   "source": [
    "# Program to find words which are greater than given length k?\n",
    " \n",
    "string =  input(\"Enter the string :\" )\n",
    "k = int(input(\"Enter k : \"))\n",
    "Strings = []\n",
    "\n",
    "words = string.split(\" \")\n",
    "for word in words:\n",
    "    if len(word) > k:\n",
    "        Strings.append(word)\n",
    "print(\"All words which are greater than given length \", k, \"are \",Strings)\n"
   ]
  },
  {
   "cell_type": "code",
   "execution_count": 3,
   "id": "03cc91fc",
   "metadata": {},
   "outputs": [
    {
     "name": "stdout",
     "output_type": "stream",
     "text": [
      "Enter String : Guruchandra\n",
      "Enter i : 4\n",
      "Guruhandra\n"
     ]
    }
   ],
   "source": [
    "# Program for removing i-th character from a string?\n",
    "\n",
    "def remove(string, i):\n",
    "    a = string[ : i]\n",
    "    b = string[i + 1: ]\n",
    "    return a + b\n",
    "\n",
    "string = input(\"Enter String : \")\n",
    "i = int(input(\"Enter i : \"))\n",
    "if i>=len(string):\n",
    "    print(\"Invaild i\")\n",
    "else:\n",
    "    print(remove(string, i))\n"
   ]
  },
  {
   "cell_type": "code",
   "execution_count": 7,
   "id": "ac217408",
   "metadata": {},
   "outputs": [
    {
     "name": "stdout",
     "output_type": "stream",
     "text": [
      "Enter sentence : Full Stack Data Science Course\n",
      "Split :  ['Full', 'Stack', 'Data', 'Science', 'Course']\n",
      "Join :  Full Stack Data Science Course\n"
     ]
    }
   ],
   "source": [
    "# Program to split and join a string?\n",
    "\n",
    "sentence = input(\"Enter sentence : \")\n",
    "String = sentence.split(\" \")\n",
    "print(\"Split : \",String)\n",
    "sen = \" \".join(String)\n",
    "print(\"Join : \",sen)"
   ]
  },
  {
   "cell_type": "code",
   "execution_count": 8,
   "id": "128ee0f8",
   "metadata": {},
   "outputs": [
    {
     "name": "stdout",
     "output_type": "stream",
     "text": [
      "Yes\n"
     ]
    }
   ],
   "source": [
    "# Program to check if a given string is binary string or not?\n",
    "\n",
    "string = \"101010000111\"\n",
    "p = set(string)\n",
    "s = {'0', '1'}\n",
    "if s == p or p == {'0'} or p == {'1'}:\n",
    "    print(\"Yes\")\n",
    "else :\n",
    "    print(\"No\")"
   ]
  },
  {
   "cell_type": "code",
   "execution_count": 10,
   "id": "cf975782",
   "metadata": {},
   "outputs": [
    {
     "name": "stdout",
     "output_type": "stream",
     "text": [
      "Enter String A : Ineuron Data Science\n",
      "Enter String B : Ineuron Full Stack Data Science\n",
      "['Full', 'Stack']\n"
     ]
    }
   ],
   "source": [
    "# Program to find uncommon words from two Strings?\n",
    "\n",
    "def UncommonWords(A, B):\n",
    "    count = {}\n",
    "    for word in A.split():\n",
    "        count[word] = count.get(word, 0) + 1\n",
    "\n",
    "    for word in B.split():\n",
    "        count[word] = count.get(word, 0) + 1\n",
    "    return [word for word in count if count[word] == 1]\n",
    "\n",
    "A = input(\"Enter String A : \")\n",
    "B = input(\"Enter String B : \")\n",
    "print(UncommonWords(A, B))\n"
   ]
  },
  {
   "cell_type": "code",
   "execution_count": 1,
   "id": "009182ca",
   "metadata": {},
   "outputs": [
    {
     "name": "stdout",
     "output_type": "stream",
     "text": [
      "Enter String : guru\n"
     ]
    },
    {
     "data": {
      "text/plain": [
       "['u']"
      ]
     },
     "execution_count": 1,
     "metadata": {},
     "output_type": "execute_result"
    }
   ],
   "source": [
    "# Program to find all duplicate characters in string?\n",
    "\n",
    "def find_duplicates(s):\n",
    "    elements = {}\n",
    "    for char in s:\n",
    "        if elements.get(char,None) != None:\n",
    "            elements[char]+=1\n",
    "        else:\n",
    "            elements[char] = 1\n",
    "    return [k for k,v in elements.items() if v>1]\n",
    "\n",
    "string = input(\"Enter String : \")\n",
    "find_duplicates(string)\n"
   ]
  },
  {
   "cell_type": "code",
   "execution_count": 4,
   "id": "bceb3f1d",
   "metadata": {},
   "outputs": [
    {
     "name": "stdout",
     "output_type": "stream",
     "text": [
      "Enter String : guru@chandra\n",
      "String is not accepted.\n"
     ]
    }
   ],
   "source": [
    "# Python3 program to check if a string\n",
    "\n",
    "import re\n",
    "\n",
    "def run(string):\n",
    "    regex = re.compile('[@_!#$%^&*()<>?/\\|}{~:]')\n",
    "    if(regex.search(string) == None):\n",
    "        print(\"String is accepted\")\n",
    "    else:\n",
    "        print(\"String is not accepted.\")\n",
    "\n",
    "string = input(\"Enter String : \")\n",
    "run(string)\n"
   ]
  }
 ],
 "metadata": {
  "kernelspec": {
   "display_name": "Python 3",
   "language": "python",
   "name": "python3"
  },
  "language_info": {
   "codemirror_mode": {
    "name": "ipython",
    "version": 3
   },
   "file_extension": ".py",
   "mimetype": "text/x-python",
   "name": "python",
   "nbconvert_exporter": "python",
   "pygments_lexer": "ipython3",
   "version": "3.8.8"
  }
 },
 "nbformat": 4,
 "nbformat_minor": 5
}
