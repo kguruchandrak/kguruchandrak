{
 "cells": [
  {
   "cell_type": "code",
   "execution_count": 8,
   "id": "d2bb0860",
   "metadata": {},
   "outputs": [
    {
     "name": "stdout",
     "output_type": "stream",
     "text": [
      "The original dictionary is : {'a': [53, 46, 77], 'b': [100, 21, 7, 35], 'c': [6, 2, 1, 28], 'd': [11, 92, 55]}\n",
      "The unique values list is : [1, 2, 6, 7, 11, 21, 28, 35, 46, 53, 55, 77, 92, 100]\n"
     ]
    }
   ],
   "source": [
    "# Program to Extract Unique values dictionary values?\n",
    "\n",
    "test_dict = {'a' : [53, 46, 77],\n",
    "            'b' : [100, 21, 7, 35],\n",
    "            'c' : [6, 2, 1, 28],\n",
    "            'd' : [11, 92, 55]}\n",
    "\n",
    "print(\"The original dictionary is : \" + str(test_dict))\n",
    "res = list(sorted({ele for val in test_dict.values() for ele in val}))\n",
    "print(\"The unique values list is : \" + str(res))\n"
   ]
  },
  {
   "cell_type": "code",
   "execution_count": 9,
   "id": "778a242b",
   "metadata": {},
   "outputs": [
    {
     "name": "stdout",
     "output_type": "stream",
     "text": [
      "Sum : 2300\n"
     ]
    }
   ],
   "source": [
    "# Program to find the sum of all items in a dictionary\n",
    "\n",
    "def returnSum(dict):\n",
    "    sum = 0\n",
    "    for i in dict.values():\n",
    "        sum = sum + i\n",
    "    return sum\n",
    "\n",
    "dict = {'a': 100, 'b':200, 'c':300, 'd': 400, 'e':500, 'f':800}\n",
    "print(\"Sum :\", returnSum(dict))\n"
   ]
  },
  {
   "cell_type": "code",
   "execution_count": 16,
   "id": "9197936f",
   "metadata": {},
   "outputs": [
    {
     "name": "stdout",
     "output_type": "stream",
     "text": [
      "{'a': 160, 'b': 84, 'c': 61, 'd': 43}\n"
     ]
    }
   ],
   "source": [
    "# Program to Merging two Dictionaries? \n",
    "\n",
    "def Merge(dict1, dict2):\n",
    "    return(dict1.update(dict2))\n",
    "    \n",
    "dict1 = {'a': 160, 'b': 84}\n",
    "dict2 = {'c': 61, 'd': 43}\n",
    "\n",
    "Merge(dict1, dict2)\n",
    "print(dict1)\n"
   ]
  },
  {
   "cell_type": "code",
   "execution_count": 23,
   "id": "f883d88a",
   "metadata": {},
   "outputs": [
    {
     "name": "stdout",
     "output_type": "stream",
     "text": [
      "The original dictionary is : {'month': [1, 2, 3], 'name': ['Jan', 'Feb', 'March']}\n",
      "[(1, 'Jan'), (2, 'Feb'), (3, 'March')]\n"
     ]
    }
   ],
   "source": [
    "# Program to convert key-values list to flat dictionary\n",
    "\n",
    "test_dict = {'month' : [1, 2, 3],\n",
    "            'name' : ['Jan', 'Feb', 'March']}\n",
    "\n",
    "print(\"The original dictionary is : \" + str(test_dict))\n",
    "dic = list(zip(test_dict['month'], test_dict['name']))\n",
    "print(dic)\n"
   ]
  },
  {
   "cell_type": "code",
   "execution_count": 26,
   "id": "975424cd",
   "metadata": {},
   "outputs": [
    {
     "name": "stdout",
     "output_type": "stream",
     "text": [
      "Resultant Dictionary : OrderedDict([('sai', '3'), ('guru', '1'), ('chandra', '2')])\n"
     ]
    }
   ],
   "source": [
    "# Program to insertion at the beginning in OrderedDict?\n",
    "\n",
    "from collections import OrderedDict\n",
    "\n",
    "iniordered_dict = OrderedDict([('guru', '1'), ('chandra', '2')])\n",
    "iniordered_dict.update({'sai':'3'})\n",
    "iniordered_dict.move_to_end('sai', last = False)\n",
    "print (\"Resultant Dictionary : \"+str(iniordered_dict))\n"
   ]
  },
  {
   "cell_type": "code",
   "execution_count": 28,
   "id": "6b6aa49b",
   "metadata": {},
   "outputs": [
    {
     "name": "stdout",
     "output_type": "stream",
     "text": [
      "OrderedDict([('e', None), ('n', None), ('g', None), ('i', None), ('r', None), ('s', None), (' ', None), ('o', None), ('c', None), ('k', None)])\n",
      "true\n"
     ]
    }
   ],
   "source": [
    "# Program to check order of character in string using OrderedDict()?\n",
    "\n",
    "from collections import OrderedDict\n",
    "\n",
    "def checkOrder(input, pattern):\n",
    "    dict = OrderedDict.fromkeys(input)\n",
    "    print(dict)\n",
    "    ptrlen = 0\n",
    "    for key,value in dict.items():\n",
    "        if (key == pattern[ptrlen]):\n",
    "            ptrlen = ptrlen + 1\n",
    "        if (ptrlen == (len(pattern))):\n",
    "            return 'true'\n",
    "    return 'false'\n",
    "\n",
    "\n",
    "input = 'engineers rock'\n",
    "pattern = 'egr'\n",
    "print (checkOrder(input,pattern))\n"
   ]
  },
  {
   "cell_type": "code",
   "execution_count": 29,
   "id": "3122a5ee",
   "metadata": {},
   "outputs": [
    {
     "name": "stdout",
     "output_type": "stream",
     "text": [
      "OrderedDict([('rajnish', '9'), ('ravi', '10'), ('sanjeev', '15'), ('suraj', '32'), ('yash', '2')])\n"
     ]
    }
   ],
   "source": [
    "# Program to sort Python Dictionaries by Key or Value?\n",
    "\n",
    "from collections import OrderedDict\n",
    "\n",
    "dict = {'ravi':'10','rajnish':'9','sanjeev':'15','yash':'2','suraj':'32'}\n",
    "dict1 = OrderedDict(sorted(dict.items()))\n",
    "print(dict1)\n"
   ]
  },
  {
   "cell_type": "code",
   "execution_count": null,
   "id": "28a15a93",
   "metadata": {},
   "outputs": [],
   "source": []
  }
 ],
 "metadata": {
  "kernelspec": {
   "display_name": "Python 3",
   "language": "python",
   "name": "python3"
  },
  "language_info": {
   "codemirror_mode": {
    "name": "ipython",
    "version": 3
   },
   "file_extension": ".py",
   "mimetype": "text/x-python",
   "name": "python",
   "nbconvert_exporter": "python",
   "pygments_lexer": "ipython3",
   "version": "3.8.8"
  }
 },
 "nbformat": 4,
 "nbformat_minor": 5
}
