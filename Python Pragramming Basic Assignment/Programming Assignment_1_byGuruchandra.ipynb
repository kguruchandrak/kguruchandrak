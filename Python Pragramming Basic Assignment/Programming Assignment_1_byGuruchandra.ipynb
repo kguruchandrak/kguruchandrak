{
 "cells": [
  {
   "cell_type": "code",
   "execution_count": 3,
   "id": "b4e65b38",
   "metadata": {},
   "outputs": [
    {
     "name": "stdout",
     "output_type": "stream",
     "text": [
      "Hello Python\n"
     ]
    }
   ],
   "source": [
    "# Write a python program to print \"Hello Python\"\n",
    "\n",
    "print (\"Hello Python\")"
   ]
  },
  {
   "cell_type": "code",
   "execution_count": 6,
   "id": "100ab537",
   "metadata": {},
   "outputs": [
    {
     "name": "stdout",
     "output_type": "stream",
     "text": [
      "Enter a : 10\n",
      "Enter b : 5\n",
      "Addition :  15\n",
      "Subtraction :   5\n",
      "Multiplication :  50\n",
      "Division :  2.0\n"
     ]
    }
   ],
   "source": [
    "# Write a python program to do arthamatic operations (Addition and Division)\n",
    "\n",
    "a , b= int(input(\"Enter a : \")) , int(input(\"Enter b : \"))\n",
    "print(\"Addition : \",a + b)\n",
    "print(\"Subtraction :  \",a - b)\n",
    "print(\"Multiplication : \",a * b)\n",
    "print(\"Division : \",a / b)\n",
    "\n"
   ]
  },
  {
   "cell_type": "code",
   "execution_count": 7,
   "id": "dabc7a6c",
   "metadata": {},
   "outputs": [
    {
     "name": "stdout",
     "output_type": "stream",
     "text": [
      "Enter base : 10\n",
      "Enter height : 10\n",
      "Area of a triangle :  50.0\n"
     ]
    }
   ],
   "source": [
    "# Write a python program to find the area of a triangle\n",
    "\n",
    "base , height = int(input(\"Enter base : \")) , int(input(\"Enter height : \"))\n",
    "print(\"Area of a triangle : \", (base * height)/2)"
   ]
  },
  {
   "cell_type": "code",
   "execution_count": 15,
   "id": "233e505c",
   "metadata": {},
   "outputs": [
    {
     "name": "stdout",
     "output_type": "stream",
     "text": [
      "Enter a : 1\n",
      "Enter b : 76\n",
      "Swaped variables : 76 & 1 \n"
     ]
    }
   ],
   "source": [
    "# Write a python program to swap to variables\n",
    "\n",
    "a , b= int(input(\"Enter a : \")) , int(input(\"Enter b : \"))\n",
    "b , a = a , b\n",
    "print(\"Swaped variables : %d & %d \" %(a,b))"
   ]
  },
  {
   "cell_type": "code",
   "execution_count": 21,
   "id": "ed814c6d",
   "metadata": {},
   "outputs": [
    {
     "name": "stdout",
     "output_type": "stream",
     "text": [
      "Random Number :  0.14889322331048294\n",
      "Enter a : 3\n",
      "Enter b : 27\n",
      "Random Number in between 3 and 27: 4\n"
     ]
    }
   ],
   "source": [
    "# Write a Python program to generate a random number\n",
    "\n",
    "import random\n",
    "\n",
    "num1 = random.random()\n",
    "print(\"Random Number : \", num1)\n",
    "\n",
    "\n",
    "\n",
    "# Write a Python program to generate a random number in a given range\n",
    "\n",
    "a , b= int(input(\"Enter a : \")) , int(input(\"Enter b : \"))\n",
    "num2 = random.randint(a,b)\n",
    "print(\"Random Number in between \" +str(a)+ \" and \" +str(b)+ \": \"+str(num2))"
   ]
  },
  {
   "cell_type": "code",
   "execution_count": null,
   "id": "f692fa3c",
   "metadata": {},
   "outputs": [],
   "source": []
  }
 ],
 "metadata": {
  "kernelspec": {
   "display_name": "Python 3",
   "language": "python",
   "name": "python3"
  },
  "language_info": {
   "codemirror_mode": {
    "name": "ipython",
    "version": 3
   },
   "file_extension": ".py",
   "mimetype": "text/x-python",
   "name": "python",
   "nbconvert_exporter": "python",
   "pygments_lexer": "ipython3",
   "version": "3.8.8"
  }
 },
 "nbformat": 4,
 "nbformat_minor": 5
}
