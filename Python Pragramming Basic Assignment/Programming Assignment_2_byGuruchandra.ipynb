{
 "cells": [
  {
   "cell_type": "code",
   "execution_count": 3,
   "id": "b4496342",
   "metadata": {},
   "outputs": [
    {
     "name": "stdout",
     "output_type": "stream",
     "text": [
      "Enter Kilometers : 10\n",
      "10 kilometers is equal to 6.21371 miles. \n"
     ]
    }
   ],
   "source": [
    "#1. Write a Python program to convert kilometers to miles?\n",
    "\n",
    "\n",
    "kilometers = int(input(\"Enter Kilometers : \"))\n",
    "miles =  kilometers * 0.621371\n",
    "print(\"{} kilometers is equal to {} miles. \".format(kilometers,miles))"
   ]
  },
  {
   "cell_type": "code",
   "execution_count": 5,
   "id": "68e28c5d",
   "metadata": {},
   "outputs": [
    {
     "name": "stdout",
     "output_type": "stream",
     "text": [
      "Enter Temperature : 37\n",
      "37.0 Celsius is equal to 98.60000000000001 Fahrenheit. \n"
     ]
    }
   ],
   "source": [
    "#2. Write a Python program to convert Celsius to Fahrenheit?\n",
    "\n",
    "\n",
    "\n",
    "Celsius = float(input(\"Enter Temperature : \"))\n",
    "Fahrenheit = (Celsius * (9/5)) + 32 \n",
    "print(\"{} Celsius is equal to {} Fahrenheit. \".format(Celsius,Fahrenheit))"
   ]
  },
  {
   "cell_type": "code",
   "execution_count": 9,
   "id": "fae66ab4",
   "metadata": {},
   "outputs": [
    {
     "name": "stdout",
     "output_type": "stream",
     "text": [
      "Enter Year : 2021\n",
      "Enter Month : 9\n",
      "   September 2021\n",
      "Mo Tu We Th Fr Sa Su\n",
      "       1  2  3  4  5\n",
      " 6  7  8  9 10 11 12\n",
      "13 14 15 16 17 18 19\n",
      "20 21 22 23 24 25 26\n",
      "27 28 29 30\n",
      "\n"
     ]
    }
   ],
   "source": [
    "#3. Write a Python program to display calendar?\n",
    "\n",
    "\n",
    "\n",
    "import calendar as c\n",
    "year , month = int(input(\"Enter Year : \")) , int(input(\"Enter Month : \"))\n",
    "print(c.month(year,month))"
   ]
  },
  {
   "cell_type": "code",
   "execution_count": 18,
   "id": "cee380f1",
   "metadata": {},
   "outputs": [
    {
     "name": "stdout",
     "output_type": "stream",
     "text": [
      "quadratic equation : ax**2 + bx + c \n",
      "Enter a : 1\n",
      "Enter b : 5\n",
      "Enter c : 6\n",
      "Discriminant :  1\n",
      "Solution for 1x**2 + 5x + 6 : (-3+0j) and (-2+0j) \n"
     ]
    }
   ],
   "source": [
    "#4. Write a Python program to solve quadratic equation?\n",
    "\n",
    "import cmath \n",
    "\n",
    "print(\"quadratic equation : ax**2 + bx + c \")\n",
    "a , b , c = int(input(\"Enter a : \")) , int(input(\"Enter b : \")) , int(input(\"Enter c : \"))\n",
    "d = (b**2) - (4*a*c)\n",
    "print(\"Discriminant : \",d)\n",
    "solution1 = (-b-cmath.sqrt(d))/(2*a) \n",
    "solution2 = (-b+cmath.sqrt(d))/(2*a)\n",
    "print(\"Solution for {}x**2 + {}x + {} : {} and {} \".format(a,b,c,solution1,solution2))\n",
    "\n"
   ]
  },
  {
   "cell_type": "code",
   "execution_count": 11,
   "id": "a97e8084",
   "metadata": {},
   "outputs": [
    {
     "name": "stdout",
     "output_type": "stream",
     "text": [
      "Enter a : 2\n",
      "Enter b : 5\n",
      "Before Swap : a is 2 and b is 5\n",
      "After Swap : a is 5 and b is 2\n"
     ]
    }
   ],
   "source": [
    "#5. Write a Python program to swap two variables without temp variable?\n",
    "\n",
    "\n",
    "a , b = int(input(\"Enter a : \")) , int(input(\"Enter b : \"))\n",
    "print(\"Before Swap : a is {} and b is {}\".format(a,b))\n",
    "b , a =  a , b\n",
    "print(\"After Swap : a is {} and b is {}\".format(a,b))"
   ]
  },
  {
   "cell_type": "code",
   "execution_count": null,
   "id": "7af96da3",
   "metadata": {},
   "outputs": [],
   "source": []
  }
 ],
 "metadata": {
  "kernelspec": {
   "display_name": "Python 3",
   "language": "python",
   "name": "python3"
  },
  "language_info": {
   "codemirror_mode": {
    "name": "ipython",
    "version": 3
   },
   "file_extension": ".py",
   "mimetype": "text/x-python",
   "name": "python",
   "nbconvert_exporter": "python",
   "pygments_lexer": "ipython3",
   "version": "3.8.8"
  }
 },
 "nbformat": 4,
 "nbformat_minor": 5
}
