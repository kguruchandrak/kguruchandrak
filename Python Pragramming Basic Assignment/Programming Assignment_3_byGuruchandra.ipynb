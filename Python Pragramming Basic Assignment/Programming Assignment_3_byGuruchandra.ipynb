{
 "cells": [
  {
   "cell_type": "code",
   "execution_count": 1,
   "id": "967f3680",
   "metadata": {},
   "outputs": [
    {
     "name": "stdout",
     "output_type": "stream",
     "text": [
      "Enter number : 4\n",
      "Given number is Positive.\n"
     ]
    }
   ],
   "source": [
    "# Program to Check if a Number is Positive, Negative or Zero\n",
    "\n",
    "num = int(input(\"Enter number : \"))\n",
    "if num == 0:\n",
    "    print(\"Given number is Zero.\")\n",
    "elif num > 0:\n",
    "    print(\"Given number is Positive.\")\n",
    "elif num < 0:\n",
    "    print(\"Given number is Negative.\")"
   ]
  },
  {
   "cell_type": "code",
   "execution_count": 2,
   "id": "edbfef5e",
   "metadata": {},
   "outputs": [
    {
     "name": "stdout",
     "output_type": "stream",
     "text": [
      "Enter number : 44\n",
      "Number 44 is Even.\n"
     ]
    }
   ],
   "source": [
    "# Program to Check if a Number is Odd or Even\n",
    "\n",
    "num = int(input(\"Enter number : \"))\n",
    "if num%2 == 0:\n",
    "    print(\"Number {} is Even.\".format(num))\n",
    "else:\n",
    "    print(\"Number {} is Odd.\".format(num))"
   ]
  },
  {
   "cell_type": "code",
   "execution_count": 3,
   "id": "a40465f4",
   "metadata": {},
   "outputs": [
    {
     "name": "stdout",
     "output_type": "stream",
     "text": [
      "Enter year : 2012\n",
      "2012 is a leap year.\n"
     ]
    }
   ],
   "source": [
    "# Program to Check Leap Year\n",
    "\n",
    "year = int(input(\"Enter year : \"))  \n",
    "if year%4 == 0:  \n",
    "   if year%100 == 0:  \n",
    "       if year%400 == 0:  \n",
    "           print(\"{} is a leap year.\".format(year))  \n",
    "       else:  \n",
    "           print(\"{} is NOT a leap year.\".format(year))  \n",
    "   else:  \n",
    "       print(\"{} is a leap year.\".format(year))  \n",
    "else:  \n",
    "   print(\"{} is NOT a leap year.\".format(year))  \n"
   ]
  },
  {
   "cell_type": "code",
   "execution_count": 3,
   "id": "6696e46d",
   "metadata": {},
   "outputs": [
    {
     "name": "stdout",
     "output_type": "stream",
     "text": [
      "Enter number : 2\n",
      "Number 2 is a Prime Number.\n"
     ]
    }
   ],
   "source": [
    "# Program to Check Prime Number\n",
    "\n",
    "num = int(input(\"Enter number : \"))\n",
    "flag = 0\n",
    "if num == 2:\n",
    "    print(\"Number 2 is a Prime Number.\")\n",
    "for i in range(2,num):\n",
    "    flag = 0\n",
    "    if num%i != 0:\n",
    "        flag = 1\n",
    "    if flag == 0:\n",
    "        print(\"Number {} is NOT a Prime Number.\".format(num))\n",
    "        break\n",
    "else:\n",
    "    if flag == 1:\n",
    "        print(\"Number {} is a Prime Number.\".format(num))"
   ]
  },
  {
   "cell_type": "code",
   "execution_count": 1,
   "id": "605c59de",
   "metadata": {},
   "outputs": [
    {
     "name": "stdout",
     "output_type": "stream",
     "text": [
      "Number 2 is a Prime Number.\n",
      "Number 3 is a Prime Number.\n",
      "Number 4 is NOT a Prime Number.\n",
      "Number 5 is a Prime Number.\n",
      "Number 6 is NOT a Prime Number.\n",
      "Number 7 is a Prime Number.\n",
      "Number 8 is NOT a Prime Number.\n",
      "Number 9 is NOT a Prime Number.\n",
      "Total number of Prime number are  4\n"
     ]
    }
   ],
   "source": [
    "# Program to Print all Prime Numbers in an Interval of 1-10000?\n",
    "\n",
    "count = 1\n",
    "for num in range(1,10000):\n",
    "    flag = 0\n",
    "    if num == 2:\n",
    "        print(\"Number 2 is a Prime Number.\")\n",
    "    for i in range(2,num):\n",
    "        flag = 0\n",
    "        if num%i != 0:\n",
    "            flag = 1\n",
    "        if flag == 0:\n",
    "            print(\"Number {} is NOT a Prime Number.\".format(num))\n",
    "            break\n",
    "    \n",
    "    else:\n",
    "        if flag == 1:\n",
    "            count = count + 1\n",
    "            print(\"Number {} is a Prime Number.\".format(num))\n",
    "            \n",
    "print(\"Total number of Prime number are \",count)"
   ]
  },
  {
   "cell_type": "code",
   "execution_count": null,
   "id": "2883a320",
   "metadata": {},
   "outputs": [],
   "source": []
  }
 ],
 "metadata": {
  "kernelspec": {
   "display_name": "Python 3",
   "language": "python",
   "name": "python3"
  },
  "language_info": {
   "codemirror_mode": {
    "name": "ipython",
    "version": 3
   },
   "file_extension": ".py",
   "mimetype": "text/x-python",
   "name": "python",
   "nbconvert_exporter": "python",
   "pygments_lexer": "ipython3",
   "version": "3.8.8"
  }
 },
 "nbformat": 4,
 "nbformat_minor": 5
}
