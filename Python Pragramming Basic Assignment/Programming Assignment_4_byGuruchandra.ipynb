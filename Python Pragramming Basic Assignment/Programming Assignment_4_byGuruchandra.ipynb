{
 "cells": [
  {
   "cell_type": "code",
   "execution_count": 1,
   "id": "6661df7d",
   "metadata": {},
   "outputs": [
    {
     "name": "stdout",
     "output_type": "stream",
     "text": [
      "Enter number for Factorial : 5\n",
      "The factorial of 5 is 120.\n"
     ]
    }
   ],
   "source": [
    "# Program to Find the Factorial of a Number?\n",
    "\n",
    "num = int(input(\"Enter number for Factorial : \"))\n",
    "fact= 1    \n",
    "if num < 0:    \n",
    "   print(\" Factorial does not exist for negative numbers\")    \n",
    "elif num == 0:    \n",
    "   print(\"The factorial of 0 is 1\")    \n",
    "else:    \n",
    "   for i in range(1,num+1):    \n",
    "       fact = fact*i    \n",
    "   print(\"The factorial of {} is {}.\".format(num,fact))  \n",
    "\n",
    "\n"
   ]
  },
  {
   "cell_type": "code",
   "execution_count": 2,
   "id": "1272776e",
   "metadata": {},
   "outputs": [
    {
     "name": "stdout",
     "output_type": "stream",
     "text": [
      "Enter number for Multiplication Table : 5\n",
      "5 * 1 = 5\n",
      "5 * 2 = 10\n",
      "5 * 3 = 15\n",
      "5 * 4 = 20\n",
      "5 * 5 = 25\n",
      "5 * 6 = 30\n",
      "5 * 7 = 35\n",
      "5 * 8 = 40\n",
      "5 * 9 = 45\n",
      "5 * 10 = 50\n",
      "5 * 11 = 55\n",
      "5 * 12 = 60\n"
     ]
    }
   ],
   "source": [
    "# Program to Display the multiplication Table?\n",
    "\n",
    "num = int(input(\"Enter number for Multiplication Table : \"))\n",
    "for i in range(1,13):\n",
    "    print(\"{} * {} = {}\".format(num,i,num*i))"
   ]
  },
  {
   "cell_type": "code",
   "execution_count": 3,
   "id": "3f9d07ff",
   "metadata": {},
   "outputs": [
    {
     "name": "stdout",
     "output_type": "stream",
     "text": [
      "Enter the nth term of Fibonacci sequence : 7\n",
      "Fibonacci sequence : 0 1 1 2 3 5 8 "
     ]
    }
   ],
   "source": [
    "# Program to Print the Fibonacci sequence?\n",
    "\n",
    "nth_term = int(input(\"Enter the nth term of Fibonacci sequence : \"))\n",
    "a , b = 0 , 1\n",
    "print(\"Fibonacci sequence : {} {} \".format(a,b),end=\"\")\n",
    "for i in range(nth_term-2):\n",
    "    c = a + b\n",
    "    print(c,end = \" \")\n",
    "    a , b = b ,c\n",
    "\n",
    "\n"
   ]
  },
  {
   "cell_type": "code",
   "execution_count": 5,
   "id": "ef37cd5b",
   "metadata": {},
   "outputs": [
    {
     "name": "stdout",
     "output_type": "stream",
     "text": [
      "Enter number to Check Armstrong Number : 153\n",
      " 153 is an Armstrong number.\n"
     ]
    }
   ],
   "source": [
    "# Program to Check Armstrong Number?\n",
    "\n",
    "num = int(input(\"Enter number to Check Armstrong Number : \"))\n",
    "add = 0\n",
    "length = len(str(num))\n",
    "\n",
    "temp = num\n",
    "while temp > 0:\n",
    "   digit = temp % 10\n",
    "   add = add + digit ** length \n",
    "   temp = temp // 10\n",
    "\n",
    "if num == add:\n",
    "   print(\" {} is an Armstrong number.\".format(num))\n",
    "else:\n",
    "   print(\" {} is not an Armstrong number.\".format(num))\n"
   ]
  },
  {
   "cell_type": "code",
   "execution_count": 7,
   "id": "b5348f3e",
   "metadata": {},
   "outputs": [
    {
     "name": "stdout",
     "output_type": "stream",
     "text": [
      "Enter start number : 150\n",
      "Enter end number : 155\n",
      " 150 is not an Armstrong number.\n",
      " 151 is not an Armstrong number.\n",
      " 152 is not an Armstrong number.\n",
      " 153 is an Armstrong number.\n",
      " 154 is not an Armstrong number.\n",
      " 155 is not an Armstrong number.\n"
     ]
    }
   ],
   "source": [
    "# Program to Find Armstrong Number in an Interval?\n",
    "\n",
    "start = int(input(\"Enter start number : \"))\n",
    "end = int(input(\"Enter end number : \"))\n",
    "for num in range(start,end+1):\n",
    "    add = 0\n",
    "    length = len(str(num))\n",
    "    \n",
    "    temp = num\n",
    "    while temp > 0:\n",
    "       digit = temp % 10\n",
    "       add = add + digit ** length \n",
    "       temp = temp // 10\n",
    "    \n",
    "    if num == add:\n",
    "       print(\" {} is an Armstrong number.\".format(num))\n",
    "    else:\n",
    "       print(\" {} is not an Armstrong number.\".format(num))"
   ]
  },
  {
   "cell_type": "code",
   "execution_count": 8,
   "id": "f2ad6dc6",
   "metadata": {},
   "outputs": [
    {
     "name": "stdout",
     "output_type": "stream",
     "text": [
      "Enter number : 10\n",
      "The sum is 55.\n"
     ]
    }
   ],
   "source": [
    "# Program to Find the Sum of Natural Numbers?\n",
    "\n",
    "num = int(input(\"Enter number : \"))\n",
    "if num <= 0:\n",
    "    print(\"Enter Positive number.\")\n",
    "else:\n",
    "    add = 0\n",
    "    while num > 0:\n",
    "       add = add + num\n",
    "       num = num - 1\n",
    "    print(\"The sum is {}.\".format(add))"
   ]
  },
  {
   "cell_type": "code",
   "execution_count": null,
   "id": "eac64c0e",
   "metadata": {},
   "outputs": [],
   "source": []
  }
 ],
 "metadata": {
  "kernelspec": {
   "display_name": "Python 3",
   "language": "python",
   "name": "python3"
  },
  "language_info": {
   "codemirror_mode": {
    "name": "ipython",
    "version": 3
   },
   "file_extension": ".py",
   "mimetype": "text/x-python",
   "name": "python",
   "nbconvert_exporter": "python",
   "pygments_lexer": "ipython3",
   "version": "3.8.8"
  }
 },
 "nbformat": 4,
 "nbformat_minor": 5
}
