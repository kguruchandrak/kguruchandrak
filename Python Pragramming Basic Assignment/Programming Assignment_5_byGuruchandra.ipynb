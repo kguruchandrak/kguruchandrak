{
 "cells": [
  {
   "cell_type": "code",
   "execution_count": 1,
   "id": "cd6ba0ba",
   "metadata": {},
   "outputs": [
    {
     "name": "stdout",
     "output_type": "stream",
     "text": [
      "Enter number1 : 5\n",
      "Enter number2 : 6\n",
      "The L.C.M. is 30.\n"
     ]
    }
   ],
   "source": [
    "# Program to Find LCM?\n",
    "\n",
    "def LCM(x, y):\n",
    "    if x > y:\n",
    "       greater , constant = x , x\n",
    "    else:\n",
    "       greater , constant = y , y\n",
    "\n",
    "    while True :\n",
    "        if greater % x == 0 and greater % y == 0:\n",
    "           lcm = greater\n",
    "           break\n",
    "        greater = greater + constant\n",
    "    return lcm\n",
    "\n",
    "num1 = int(input(\"Enter number1 : \"))\n",
    "num2 = int(input(\"Enter number2 : \"))\n",
    "print(\"The L.C.M. is {}.\".format(LCM(num1, num2)))"
   ]
  },
  {
   "cell_type": "code",
   "execution_count": 3,
   "id": "952b14ad",
   "metadata": {},
   "outputs": [
    {
     "name": "stdout",
     "output_type": "stream",
     "text": [
      "Enter number1 : 12\n",
      "Enter number2 : 16\n",
      "The H.C.F. is 4\n"
     ]
    }
   ],
   "source": [
    "# Program to Find H.C.F ?\n",
    "\n",
    "def HCF(x, y):\n",
    "    if x > y:\n",
    "        smaller = y\n",
    "    else:\n",
    "        smaller = x\n",
    "    for i in range(1, smaller+1):\n",
    "        if((x % i == 0) and (y % i == 0)):\n",
    "            hcf = i \n",
    "    return hcf\n",
    "\n",
    "num1 = int(input(\"Enter number1 : \"))\n",
    "num2 = int(input(\"Enter number2 : \"))\n",
    "\n",
    "print(\"The H.C.F. is\", HCF(num1, num2))\n"
   ]
  },
  {
   "cell_type": "code",
   "execution_count": 6,
   "id": "f7ed6863",
   "metadata": {},
   "outputs": [
    {
     "name": "stdout",
     "output_type": "stream",
     "text": [
      "Enter number for conversion : 4\n",
      "The decimal value of 4 is : \n",
      "In binary : 0b100 \n",
      "In octal : 0o4 \n",
      "In hexadecimal : 0x4 \n"
     ]
    }
   ],
   "source": [
    "# Program to Convert Decimal to Binary, Octal and Hexadecimal?\n",
    "\n",
    "dec_num = int(input(\"Enter number for conversion : \"))\n",
    "print(\"The decimal value of {} is : \".format(dec_num))\n",
    "print(\"In binary : {} \".format(bin(dec_num)))\n",
    "print(\"In octal : {} \".format(oct(dec_num)))\n",
    "print(\"In hexadecimal : {} \".format(hex(dec_num)))"
   ]
  },
  {
   "cell_type": "code",
   "execution_count": 7,
   "id": "95a2d4b5",
   "metadata": {},
   "outputs": [
    {
     "name": "stdout",
     "output_type": "stream",
     "text": [
      "Enter character : g\n",
      "The ASCII value of 'g' is 103.\n"
     ]
    }
   ],
   "source": [
    "# Program To Find ASCII value of a character?\n",
    "\n",
    "char = input(\"Enter character : \")\n",
    "print(\"The ASCII value of '{}' is {}.\".format(char,ord(char)))"
   ]
  },
  {
   "cell_type": "code",
   "execution_count": 5,
   "id": "859b0251",
   "metadata": {},
   "outputs": [
    {
     "name": "stdout",
     "output_type": "stream",
     "text": [
      "Basic mathematical operations : \n",
      "1.Addition 2.Subtraction 3.Multiplication 4.Division 5.Power \n",
      "Enter choice : 5\n",
      "Enter number1 : 2\n",
      "Enter number2 : 4\n",
      "Power :  16\n"
     ]
    }
   ],
   "source": [
    "# Program to Make a Simple Calculator with 4 basic mathematical operations?\n",
    "\n",
    "def add(a,b):\n",
    "    print(\" Addition : \",(a+b))\n",
    "    \n",
    "def sub(a,b):\n",
    "    print(\" Subtraction : \",(a-b))\n",
    "    \n",
    "def mul(a,b):\n",
    "    print(\"Multiplication : \",(a*b))\n",
    "    \n",
    "def div(a,b):\n",
    "    try:\n",
    "        print(\"Division : \",(a//b))\n",
    "    except Exception as e :\n",
    "        print(\"ERROR :\",e)\n",
    "    \n",
    "def power(a,b):\n",
    "    print(\"Power : \",(a**b))\n",
    "    \n",
    "print(\"Basic mathematical operations : \")\n",
    "print(\"1.Addition 2.Subtraction 3.Multiplication 4.Division 5.Power \")\n",
    "num = int(input(\"Enter choice : \"))\n",
    "n1 = int(input(\"Enter number1 : \"))\n",
    "n2 = int(input(\"Enter number2 : \"))\n",
    "\n",
    "if num == 1: \n",
    "    add(n1,n2)\n",
    "elif num == 2:\n",
    "    sub(n1,n2)\n",
    "elif num == 3:\n",
    "    mul(n1,n2)\n",
    "elif num == 4:\n",
    "    div(n1,n2)\n",
    "elif num == 5:\n",
    "    power(n1,n2)\n",
    "else:\n",
    "    print(\"Invalid number\")\n"
   ]
  },
  {
   "cell_type": "code",
   "execution_count": null,
   "id": "c6972278",
   "metadata": {},
   "outputs": [],
   "source": []
  }
 ],
 "metadata": {
  "kernelspec": {
   "display_name": "Python 3",
   "language": "python",
   "name": "python3"
  },
  "language_info": {
   "codemirror_mode": {
    "name": "ipython",
    "version": 3
   },
   "file_extension": ".py",
   "mimetype": "text/x-python",
   "name": "python",
   "nbconvert_exporter": "python",
   "pygments_lexer": "ipython3",
   "version": "3.8.8"
  }
 },
 "nbformat": 4,
 "nbformat_minor": 5
}
