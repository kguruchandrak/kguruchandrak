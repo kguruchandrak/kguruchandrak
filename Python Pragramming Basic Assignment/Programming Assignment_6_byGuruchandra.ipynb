{
 "cells": [
  {
   "cell_type": "code",
   "execution_count": 1,
   "id": "22fef7ad",
   "metadata": {},
   "outputs": [
    {
     "name": "stdout",
     "output_type": "stream",
     "text": [
      "Enter Number : 5\n",
      "Fibonacci sequence : \n",
      "0\n",
      "1\n",
      "1\n",
      "2\n",
      "3\n"
     ]
    }
   ],
   "source": [
    "# Python program to display the Fibonacci sequence\n",
    "\n",
    "def f(n):\n",
    "    if n <= 1:\n",
    "       return n\n",
    "    else:\n",
    "       return f(n-1) + f(n-2)\n",
    "\n",
    "num = int(input(\"Enter Number : \"))\n",
    "if num <= 0:\n",
    "    print(\"Enter a positive integer.\")\n",
    "else:\n",
    "    print(\"Fibonacci sequence : \")\n",
    "    for i in range(num):\n",
    "       print(f(i))\n"
   ]
  },
  {
   "cell_type": "code",
   "execution_count": 2,
   "id": "e98586ef",
   "metadata": {},
   "outputs": [
    {
     "name": "stdout",
     "output_type": "stream",
     "text": [
      "Enter Number : 5\n",
      "The factorial of 5 is 120.\n"
     ]
    }
   ],
   "source": [
    "# Program to Find Factorial of Number Using Recursion?\n",
    "\n",
    "def fact(n):\n",
    "    if n == 1:\n",
    "       return n\n",
    "    else:\n",
    "       return n * fact(n-1)\n",
    "\n",
    "num = int(input(\"Enter Number : \"))\n",
    "\n",
    "if num < 0:\n",
    "   print(\"Factorial does not exist for negative numbers\")\n",
    "elif num == 0:\n",
    "   print(\"The factorial of 0 is 1\")\n",
    "else:\n",
    "   print(\"The factorial of {} is {}.\".format(num,fact(num)))"
   ]
  },
  {
   "cell_type": "code",
   "execution_count": 3,
   "id": "d03af52f",
   "metadata": {},
   "outputs": [
    {
     "name": "stdout",
     "output_type": "stream",
     "text": [
      "Enter Height : 1.78923\n",
      "Enter Weight : 70\n",
      "The BMI is 21.865816405624415.\n",
      "Healthy\n"
     ]
    }
   ],
   "source": [
    "# Program to calculate your Body Mass Index?\n",
    "\n",
    "def BMI(h, w):\n",
    "\tbmi = w / (h ** 2)\n",
    "\treturn bmi\n",
    "\n",
    "\n",
    "height = float(input(\"Enter Height : \"))\n",
    "weight = float(input(\"Enter Weight : \"))\n",
    "\n",
    "bmi = BMI(height, weight)\n",
    "print(\"The BMI is {}.\".format(bmi))\n",
    "\n",
    "if (bmi < 18.5):\n",
    "\tprint(\"underweight\")\n",
    "elif ( bmi >= 18.5 and bmi < 24.9):\n",
    "\tprint(\"Healthy\")\n",
    "elif ( bmi >= 24.9 and bmi < 30):\n",
    "\tprint(\"overweight\")\n",
    "elif ( bmi >=30):\n",
    "\tprint(\"Suffering from Obesity\")"
   ]
  },
  {
   "cell_type": "code",
   "execution_count": 4,
   "id": "04fb8566",
   "metadata": {},
   "outputs": [
    {
     "name": "stdout",
     "output_type": "stream",
     "text": [
      "Enter number : 50\n",
      "Logarithm of 50.0 : 3.912023005428146\n"
     ]
    }
   ],
   "source": [
    "# Program to calculate the natural logarithm of any number?\n",
    "\n",
    "import math\n",
    "num = float(input(\"Enter number : \"))\n",
    "print (\"Logarithm of {} : {}\".format(num,math.log(num)))\n"
   ]
  },
  {
   "cell_type": "code",
   "execution_count": 5,
   "id": "6c76d2c3",
   "metadata": {},
   "outputs": [
    {
     "name": "stdout",
     "output_type": "stream",
     "text": [
      "Enter number : 5\n",
      "cube sum of first 5 natural numbers : 225\n"
     ]
    }
   ],
   "source": [
    "# Program for cube sum of first n natural numbers?\n",
    "\n",
    "def sumofn(n):\n",
    "\tx = (n * (n + 1) / 2)\n",
    "\treturn (int)(x * x)\n",
    "\n",
    "num = int(input(\"Enter number : \"))\n",
    "print(\"cube sum of first {} natural numbers : {}\".format(num,sumofn(num)))\n"
   ]
  },
  {
   "cell_type": "code",
   "execution_count": null,
   "id": "dc08450c",
   "metadata": {},
   "outputs": [],
   "source": []
  }
 ],
 "metadata": {
  "kernelspec": {
   "display_name": "Python 3",
   "language": "python",
   "name": "python3"
  },
  "language_info": {
   "codemirror_mode": {
    "name": "ipython",
    "version": 3
   },
   "file_extension": ".py",
   "mimetype": "text/x-python",
   "name": "python",
   "nbconvert_exporter": "python",
   "pygments_lexer": "ipython3",
   "version": "3.8.8"
  }
 },
 "nbformat": 4,
 "nbformat_minor": 5
}
