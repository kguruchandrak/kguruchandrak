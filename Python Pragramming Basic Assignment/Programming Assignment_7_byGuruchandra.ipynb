{
 "cells": [
  {
   "cell_type": "code",
   "execution_count": 1,
   "id": "c640c973",
   "metadata": {},
   "outputs": [
    {
     "name": "stdout",
     "output_type": "stream",
     "text": [
      "Sum of Array :  21\n"
     ]
    }
   ],
   "source": [
    "# Program to find sum of array?\n",
    "\n",
    "arr = [1,2,3,4,5,6]\n",
    "print(\"Sum of Array : \",sum(arr))"
   ]
  },
  {
   "cell_type": "code",
   "execution_count": 2,
   "id": "f0aa4fe4",
   "metadata": {},
   "outputs": [
    {
     "name": "stdout",
     "output_type": "stream",
     "text": [
      "MAX of Array :  6\n"
     ]
    }
   ],
   "source": [
    "# Program to find largest element in an array?\n",
    "\n",
    "arr = [1,2,3,4,5,6]\n",
    "print(\"MAX of Array : \",max(arr))\n"
   ]
  },
  {
   "cell_type": "code",
   "execution_count": 8,
   "id": "d628ce5a",
   "metadata": {},
   "outputs": [
    {
     "name": "stdout",
     "output_type": "stream",
     "text": [
      "Enter rotation : 5\n",
      "Array after left rotation is:  [6, 7, 1, 2, 3, 4, 5]\n"
     ]
    }
   ],
   "source": [
    "# Program for array rotation?\n",
    "\n",
    "def rotateArr(arr, n, d):\n",
    "\ttemp = []\n",
    "\ti = 0\n",
    "\twhile (i < d):\n",
    "\t\ttemp.append(arr[i])\n",
    "\t\ti = i + 1\n",
    "\ti = 0\n",
    "\twhile (d < n):\n",
    "\t\tarr[i] = arr[d]\n",
    "\t\ti = i + 1\n",
    "\t\td = d + 1\n",
    "\tarr[:] = arr[: i] + temp\n",
    "\treturn arr\n",
    "\n",
    "\n",
    "arr = [1, 2, 3, 4, 5, 6, 7]\n",
    "rotation = int(input(\"Enter rotation : \"))\n",
    "print(\"Array after left rotation is: \", end=' ')\n",
    "print(rotateArr(arr, len(arr), rotation))"
   ]
  },
  {
   "cell_type": "code",
   "execution_count": 9,
   "id": "dd93887b",
   "metadata": {},
   "outputs": [
    {
     "name": "stdout",
     "output_type": "stream",
     "text": [
      "Enter split : 4\n",
      "Array after left rotation is:  [5, 6, 7, 1, 2, 3, 4]\n"
     ]
    }
   ],
   "source": [
    "# Program to Split the array and add the first part to the end?\n",
    "\n",
    "def splitArr(arr, n, d):\n",
    "\ttemp = []\n",
    "\ti = 0\n",
    "\twhile (i < d):\n",
    "\t\ttemp.append(arr[i])\n",
    "\t\ti = i + 1\n",
    "\ti = 0\n",
    "\twhile (d < n):\n",
    "\t\tarr[i] = arr[d]\n",
    "\t\ti = i + 1\n",
    "\t\td = d + 1\n",
    "\tarr[:] = arr[: i] + temp\n",
    "\treturn arr\n",
    "\n",
    "\n",
    "arr = [1, 2, 3, 4, 5, 6, 7]\n",
    "split = int(input(\"Enter split : \"))\n",
    "print(\"Array after left rotation is: \", end=' ')\n",
    "print(splitArr(arr, len(arr), split))\n"
   ]
  },
  {
   "cell_type": "code",
   "execution_count": 10,
   "id": "9b400ae3",
   "metadata": {},
   "outputs": [
    {
     "name": "stdout",
     "output_type": "stream",
     "text": [
      "True\n"
     ]
    }
   ],
   "source": [
    "# Program to check if given array is Monotonic?\n",
    "\n",
    "def monotonic(A):\n",
    "    return (all(A[i] <= A[i + 1] for i in range(len(A) - 1)) or all(A[i] >= A[i + 1] for i in range(len(A) - 1)))\n",
    "\n",
    "A = [6, 4, 2]\n",
    "print(monotonic(A))"
   ]
  },
  {
   "cell_type": "code",
   "execution_count": null,
   "id": "7c0329ce",
   "metadata": {},
   "outputs": [],
   "source": []
  }
 ],
 "metadata": {
  "kernelspec": {
   "display_name": "Python 3",
   "language": "python",
   "name": "python3"
  },
  "language_info": {
   "codemirror_mode": {
    "name": "ipython",
    "version": 3
   },
   "file_extension": ".py",
   "mimetype": "text/x-python",
   "name": "python",
   "nbconvert_exporter": "python",
   "pygments_lexer": "ipython3",
   "version": "3.8.8"
  }
 },
 "nbformat": 4,
 "nbformat_minor": 5
}
