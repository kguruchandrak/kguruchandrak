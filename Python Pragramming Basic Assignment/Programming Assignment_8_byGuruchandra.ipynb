{
 "cells": [
  {
   "cell_type": "code",
   "execution_count": 28,
   "id": "d1d56dc8",
   "metadata": {},
   "outputs": [
    {
     "name": "stdout",
     "output_type": "stream",
     "text": [
      "Enter Number of Matrices : 2\n",
      "Enter the number of rows : 2\n",
      "Enter the number of columns : 2\n",
      "Enter the entries rowwise:\n",
      "Enter Element : 1\n",
      "Enter Element : 2\n",
      "Enter Element : 3\n",
      "Enter Element : 4\n",
      "Enter the entries rowwise:\n",
      "Enter Element : 5\n",
      "Enter Element : 6\n",
      "Enter Element : 7\n",
      "Enter Element : 8\n",
      "Addition of Matrices.\n",
      "[6, 8]\n",
      "[10, 12]\n"
     ]
    }
   ],
   "source": [
    "#Python Program to Add Two Matrices?\n",
    "\n",
    "m = []\n",
    "num = int(input(\"Enter Number of Matrices : \"))\n",
    "R = int(input(\"Enter the number of rows : \"))\n",
    "C = int(input(\"Enter the number of columns : \"))\n",
    "for i in range(num):\n",
    "    \n",
    "    matrix = []\n",
    "    print(\"Enter the entries rowwise:\")\n",
    "    \n",
    "    for ii in range(R):\n",
    "        a =[]\n",
    "        for j in range(C):\n",
    "            a.append(int(input(\"Enter Element : \")))\n",
    "        matrix.append(a)\n",
    "    m.append(matrix)\n",
    "    \n",
    "result = m[0]\n",
    "for i in range(R):  \n",
    "    for j in range(C):\n",
    "        result[i][j] = m[0][i][j] + m[1][i][j]\n",
    "            \n",
    "print(\"Addition of Matrices.\")\n",
    "for rr in result:\n",
    "    print(rr)"
   ]
  },
  {
   "cell_type": "code",
   "execution_count": 27,
   "id": "e65c256a",
   "metadata": {},
   "outputs": [
    {
     "name": "stdout",
     "output_type": "stream",
     "text": [
      "Enter Number of Matrices : 2\n",
      "Enter the number of rows : 2\n",
      "Enter the number of columns : 2\n",
      "Enter the entries rowwise:\n",
      "Enter Element : 1\n",
      "Enter Element : 2\n",
      "Enter Element : 3\n",
      "Enter Element : 4\n",
      "Enter the entries rowwise:\n",
      "Enter Element : 5\n",
      "Enter Element : 6\n",
      "Enter Element : 7\n",
      "Enter Element : 8\n",
      "Multiplication of Matrices.\n",
      "[5, 12]\n",
      "Multiplication of Matrices.\n",
      "[21, 32]\n"
     ]
    }
   ],
   "source": [
    "#Python Program to Multiply Two Matrices?\n",
    "\n",
    "m = []\n",
    "num = int(input(\"Enter Number of Matrices : \"))\n",
    "R = int(input(\"Enter the number of rows : \"))\n",
    "C = int(input(\"Enter the number of columns : \"))\n",
    "for i in range(num):\n",
    "    \n",
    "    matrix = []\n",
    "    print(\"Enter the entries rowwise:\")\n",
    "    \n",
    "    for ii in range(R):\n",
    "        a =[]\n",
    "        for j in range(C):\n",
    "            a.append(int(input(\"Enter Element : \")))\n",
    "        matrix.append(a)\n",
    "    m.append(matrix)\n",
    "    \n",
    "result = m[0]\n",
    "for i in range(R):  \n",
    "    for j in range(C):\n",
    "        result[i][j] = m[0][i][j] * m[1][i][j]\n",
    "            \n",
    "print(\"Multiplication of Matrices.\")            \n",
    "for rr in result:    \n",
    "    print(rr)"
   ]
  },
  {
   "cell_type": "code",
   "execution_count": 41,
   "id": "7a38ddab",
   "metadata": {},
   "outputs": [
    {
     "name": "stdout",
     "output_type": "stream",
     "text": [
      "Enter the number of rows : 3\n",
      "Enter the number of columns : 3\n",
      "Enter the entries rowwise:\n",
      "Enter Element : 1\n",
      "Enter Element : 2\n",
      "Enter Element : 3\n",
      "Enter Element : 4\n",
      "Enter Element : 5\n",
      "Enter Element : 6\n",
      "Enter Element : 7\n",
      "Enter Element : 8\n",
      "Enter Element : 9\n",
      "===============================\n",
      "Before Transpose : \n",
      "[1, 2, 3]\n",
      "[4, 5, 6]\n",
      "[7, 8, 9]\n",
      "===============================\n",
      "After Transpose : \n",
      "[1, 4, 7]\n",
      "[2, 5, 8]\n",
      "[3, 6, 9]\n",
      "-----------------------------------------\n"
     ]
    },
    {
     "data": {
      "text/plain": [
       "'for rr in result1:\\n    print(rr)'"
      ]
     },
     "execution_count": 41,
     "metadata": {},
     "output_type": "execute_result"
    }
   ],
   "source": [
    "# Python Program to Transpose a Matrix?\n",
    "\n",
    "R = int(input(\"Enter the number of rows : \"))\n",
    "C = int(input(\"Enter the number of columns : \"))\n",
    "matrix = []\n",
    "print(\"Enter the entries rowwise:\")\n",
    "for ii in range(R):\n",
    "    a =[]\n",
    "    for jj in range(C):\n",
    "        a.append(int(input(\"Enter Element : \")))\n",
    "    matrix.append(a)\n",
    "print(\"===============================\")\n",
    "print(\"Before Transpose : \")\n",
    "for t in matrix:\n",
    "    print(t)       \n",
    "print(\"===============================\")\n",
    "result = [[0,0,0],[0,0,0],[0,0,0]]\n",
    "for i in range(R):  \n",
    "    for j in range(C):\n",
    "        result[j][i] = matrix[i][j] \n",
    "        \n",
    "        \n",
    "print(\"After Transpose : \")           \n",
    "for rr in result:\n",
    "    print(rr)\n"
   ]
  },
  {
   "cell_type": "code",
   "execution_count": 45,
   "id": "75d8cfdc",
   "metadata": {},
   "outputs": [
    {
     "name": "stdout",
     "output_type": "stream",
     "text": [
      "Enter a sentence : python is very easy\n",
      "easy is python very "
     ]
    }
   ],
   "source": [
    "#Python Program to Sort Words in Alphabetic Order?\n",
    "\n",
    "words = input(\"Enter a sentence : \")\n",
    "w = words.split(\" \")\n",
    "w.sort()\n",
    "for i in w:\n",
    "    print(i,end =\" \")"
   ]
  },
  {
   "cell_type": "code",
   "execution_count": 44,
   "id": "25447424",
   "metadata": {},
   "outputs": [
    {
     "name": "stdout",
     "output_type": "stream",
     "text": [
      "Enter a string : hello!!! Ineuron, Thank you the course\n",
      "hello Ineuron Thank you the course\n"
     ]
    }
   ],
   "source": [
    "# Python Program to Remove Punctuation From a String?\n",
    "\n",
    "punctuations = '''!()-[]{};:'\"\\,<>./?@#$%^&*_~'''\n",
    "my_str = input(\"Enter a string : \")\n",
    "\n",
    "no_punct = \"\"\n",
    "for char in my_str:\n",
    "    if char not in punctuations:\n",
    "        no_punct = no_punct + char\n",
    "        \n",
    "print(no_punct)\n"
   ]
  },
  {
   "cell_type": "code",
   "execution_count": null,
   "id": "9be2fb25",
   "metadata": {},
   "outputs": [],
   "source": []
  }
 ],
 "metadata": {
  "kernelspec": {
   "display_name": "Python 3",
   "language": "python",
   "name": "python3"
  },
  "language_info": {
   "codemirror_mode": {
    "name": "ipython",
    "version": 3
   },
   "file_extension": ".py",
   "mimetype": "text/x-python",
   "name": "python",
   "nbconvert_exporter": "python",
   "pygments_lexer": "ipython3",
   "version": "3.8.8"
  }
 },
 "nbformat": 4,
 "nbformat_minor": 5
}
